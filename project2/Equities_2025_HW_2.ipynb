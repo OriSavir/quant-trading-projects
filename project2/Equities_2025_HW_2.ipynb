{
 "cells": [
  {
   "cell_type": "code",
   "execution_count": null,
   "metadata": {
    "collapsed": true,
    "jupyter": {
     "outputs_hidden": true
    }
   },
   "outputs": [],
   "source": [
    "# Put your name in this cell"
   ]
  },
  {
   "cell_type": "code",
   "execution_count": 1,
   "metadata": {
    "collapsed": true,
    "jupyter": {
     "outputs_hidden": true
    }
   },
   "outputs": [],
   "source": [
    "# In this cell, import pandas as \"pd\"."
   ]
  },
  {
   "cell_type": "markdown",
   "metadata": {},
   "source": [
    "http://pandas.pydata.org/pandas-docs/stable/io.html"
   ]
  },
  {
   "cell_type": "code",
   "execution_count": 2,
   "metadata": {
    "collapsed": true,
    "jupyter": {
     "outputs_hidden": true
    }
   },
   "outputs": [],
   "source": [
    "# In this cell, read in the out_SP600.csv file (download from Blackboard) and assign to a dataframe \"df\".\n",
    "# See above link for details on how to do this."
   ]
  },
  {
   "cell_type": "code",
   "execution_count": null,
   "metadata": {
    "collapsed": true,
    "jupyter": {
     "outputs_hidden": true
    }
   },
   "outputs": [],
   "source": [
    "# Execute this cell.\n",
    "df.head(3)  # We see the data starts on 31-Dec-2012."
   ]
  },
  {
   "cell_type": "code",
   "execution_count": null,
   "metadata": {
    "collapsed": true,
    "jupyter": {
     "outputs_hidden": true
    }
   },
   "outputs": [],
   "source": [
    "# Execute this cell.\n",
    "df.tail(3)   # We see the data ends on 31-Dec-2015, so we have 3 years of data."
   ]
  },
  {
   "cell_type": "code",
   "execution_count": null,
   "metadata": {
    "collapsed": true,
    "jupyter": {
     "outputs_hidden": true
    }
   },
   "outputs": [],
   "source": [
    "# Execute this cell.\n",
    "type(df['Date'][0])  # Did you read in your dates as strings or as dates?"
   ]
  },
  {
   "cell_type": "code",
   "execution_count": 3,
   "metadata": {
    "collapsed": true,
    "jupyter": {
     "outputs_hidden": true
    }
   },
   "outputs": [],
   "source": [
    "# In this cell, read in the out_SP600.csv file and assign to the dataframe \"df\",\n",
    "# but this time take care to set the parameter that tells .read_csv() to read in dates as dates not strings.\n",
    "# See above link for details on how to do this."
   ]
  },
  {
   "cell_type": "code",
   "execution_count": null,
   "metadata": {
    "collapsed": true,
    "jupyter": {
     "outputs_hidden": true
    }
   },
   "outputs": [],
   "source": [
    "# Execute this cell.\n",
    "type(df['Date'][0])  # This should be a pandas Timestamp type."
   ]
  },
  {
   "cell_type": "code",
   "execution_count": null,
   "metadata": {
    "collapsed": true,
    "jupyter": {
     "outputs_hidden": true
    }
   },
   "outputs": [],
   "source": [
    "# Execute this cell.\n",
    "df.head(3)  # Notice that our \"Date\" column is read in as just another column, rather than as an index."
   ]
  },
  {
   "cell_type": "code",
   "execution_count": 4,
   "metadata": {
    "collapsed": true,
    "jupyter": {
     "outputs_hidden": true
    }
   },
   "outputs": [],
   "source": [
    "# In this cell, read in the out_SP600.csv file and assign to the dataframe \"df\",\n",
    "# but this time take care to set the parameter that tells .read_csv() to read in\n",
    "# the \"Date\" column as an index.  See above link for details on how to do this."
   ]
  },
  {
   "cell_type": "code",
   "execution_count": null,
   "metadata": {
    "collapsed": true,
    "jupyter": {
     "outputs_hidden": true
    }
   },
   "outputs": [],
   "source": [
    "# Execute this cell.\n",
    "df.head(3)  # You should now see your \"Date\" column as an index, rather than just another column."
   ]
  },
  {
   "cell_type": "code",
   "execution_count": null,
   "metadata": {
    "collapsed": true,
    "jupyter": {
     "outputs_hidden": true
    }
   },
   "outputs": [],
   "source": [
    "# Execute this cell.\n",
    "df.shape    # You should see that we have 757 rows (dates) and 574 columns (stocks).\n",
    "            # Having 2-dimensional data like this is often called \"panel data\"."
   ]
  },
  {
   "cell_type": "code",
   "execution_count": 5,
   "metadata": {
    "collapsed": true,
    "jupyter": {
     "outputs_hidden": true
    }
   },
   "outputs": [],
   "source": [
    "# In this cell, select the \"AAON\" column and assign to \"aaon\"."
   ]
  },
  {
   "cell_type": "code",
   "execution_count": null,
   "metadata": {
    "collapsed": true,
    "jupyter": {
     "outputs_hidden": true
    }
   },
   "outputs": [],
   "source": [
    "# Execute this cell.\n",
    "type(aaon)   # This should be a pandas series."
   ]
  },
  {
   "cell_type": "code",
   "execution_count": null,
   "metadata": {
    "collapsed": true,
    "jupyter": {
     "outputs_hidden": true
    }
   },
   "outputs": [],
   "source": [
    "# Execute this cell.\n",
    "import matplotlib.pyplot as plt"
   ]
  },
  {
   "cell_type": "code",
   "execution_count": null,
   "metadata": {
    "collapsed": true,
    "jupyter": {
     "outputs_hidden": true
    }
   },
   "outputs": [],
   "source": [
    "# Execute this cell.\n",
    "aaon.plot()  # This should display a plot of AAON's stock price immediately below."
   ]
  },
  {
   "cell_type": "markdown",
   "metadata": {},
   "source": [
    "https://pandas.pydata.org/pandas-docs/stable/generated/pandas.Series.pct_change.html"
   ]
  },
  {
   "cell_type": "code",
   "execution_count": 6,
   "metadata": {
    "collapsed": true,
    "jupyter": {
     "outputs_hidden": true
    }
   },
   "outputs": [],
   "source": [
    "# In this cell take the percentage change of \"aaon\" series and assign it to a new series named \"aaon_rtn\".\n",
    "# See above link for details on how to do this."
   ]
  },
  {
   "cell_type": "code",
   "execution_count": null,
   "metadata": {
    "collapsed": true,
    "jupyter": {
     "outputs_hidden": true
    }
   },
   "outputs": [],
   "source": [
    "# Execute this cell.\n",
    "aaon_rtn.head()  # Notice that the first value is NaN, because we couldn't calculate the return for the first date."
   ]
  },
  {
   "cell_type": "code",
   "execution_count": null,
   "metadata": {
    "collapsed": true,
    "jupyter": {
     "outputs_hidden": true
    }
   },
   "outputs": [],
   "source": [
    "# Execute this cell.\n",
    "aaon_rtn.describe()"
   ]
  },
  {
   "cell_type": "code",
   "execution_count": 7,
   "metadata": {
    "collapsed": true,
    "jupyter": {
     "outputs_hidden": true
    }
   },
   "outputs": [],
   "source": [
    "# In this cell take the percentage change of \"df\" Dataframe and assign it to a new Dateframe named \"df_rtn\"."
   ]
  },
  {
   "cell_type": "markdown",
   "metadata": {},
   "source": [
    "https://pandas.pydata.org/pandas-docs/stable/generated/pandas.DataFrame.shift.html"
   ]
  },
  {
   "cell_type": "code",
   "execution_count": 8,
   "metadata": {
    "collapsed": true,
    "jupyter": {
     "outputs_hidden": true
    }
   },
   "outputs": [],
   "source": [
    "# In this cell, take \"df_rtn\" and shift it by one day, so that today's value shows YESTERDAY's return,\n",
    "# and assign the result to df_rtn_prev\".  See above link for details on how to do this."
   ]
  },
  {
   "cell_type": "code",
   "execution_count": null,
   "metadata": {
    "collapsed": true,
    "jupyter": {
     "outputs_hidden": true
    }
   },
   "outputs": [],
   "source": [
    "# Execute this cell.\n",
    "df_rtn_prev.head(7)  # The first two rows should have NaN, and Jan 3 should have Jan 2's return."
   ]
  },
  {
   "cell_type": "markdown",
   "metadata": {},
   "source": [
    "https://pandas.pydata.org/pandas-docs/stable/generated/pandas.DataFrame.rolling.html"
   ]
  },
  {
   "cell_type": "code",
   "execution_count": 9,
   "metadata": {
    "collapsed": true,
    "jupyter": {
     "outputs_hidden": true
    }
   },
   "outputs": [],
   "source": [
    "# In this cell, take \"df_rtn_prev\", and use the .rolling() and .sum() commands to get a rolling\n",
    "# sum of prior (including the current date) 5 days.  Assign the result to \"df_5d_rolling\".\n",
    "# See above link for details on how to do this."
   ]
  },
  {
   "cell_type": "code",
   "execution_count": null,
   "metadata": {
    "collapsed": true,
    "jupyter": {
     "outputs_hidden": true
    }
   },
   "outputs": [],
   "source": [
    "# Execute this cell.\n",
    "df_5d_rolling.head(7) # The first six rows should have Nan, and Jan 9 should be the sum of the entries\n",
    "# Jan 3, 4, 7, 8, 9 of df_rtn_prev, which is actually the sum of the entries Jan 2, 3, 4, 7, 8 of df_rtn."
   ]
  },
  {
   "cell_type": "code",
   "execution_count": null,
   "metadata": {
    "collapsed": true,
    "jupyter": {
     "outputs_hidden": true
    }
   },
   "outputs": [],
   "source": [
    "# Execute this cell.\n",
    "df_5d_rolling_trimmed = df_5d_rolling.dropna()  # It is convenient to drop the rows with missing data.\n",
    "df_5d_rolling_trimmed.head()"
   ]
  },
  {
   "cell_type": "code",
   "execution_count": null,
   "metadata": {
    "collapsed": true,
    "jupyter": {
     "outputs_hidden": true
    }
   },
   "outputs": [],
   "source": [
    "# However, it might be convenient to modify a DataFrame \"in place\",\n",
    "# rather than modifying a copy and assigning it to a new DataFrame (as was done in the previous cell).\n",
    "# Execute this cell.\n",
    "df_5d_rolling.dropna(inplace=True)\n",
    "df_5d_rolling.head()"
   ]
  },
  {
   "cell_type": "code",
   "execution_count": null,
   "metadata": {
    "collapsed": true,
    "jupyter": {
     "outputs_hidden": true
    }
   },
   "outputs": [],
   "source": [
    "# Execute this cell\n",
    "mr_sig_raw = - df_5d_rolling\n",
    "# The idea use the return over the prior 5 days as a trading signal.\n",
    "# Our hypothesis is that we should have short-term mean reversion (\"mr\") of stock returns;\n",
    "# that is why we apply a negative sign to our signal.  We short stocks that (relatively speaking)\n",
    "# have gone up a lot in the previous 5 days, and we buy the stocks that have gone down."
   ]
  },
  {
   "cell_type": "markdown",
   "metadata": {},
   "source": [
    "https://pandas.pydata.org/pandas-docs/stable/generated/pandas.DataFrame.mean.html"
   ]
  },
  {
   "cell_type": "code",
   "execution_count": 10,
   "metadata": {
    "collapsed": true,
    "jupyter": {
     "outputs_hidden": true
    }
   },
   "outputs": [],
   "source": [
    "# In this cell, assign the cross sectional mean return to a pandas time series called \"mr_sig_mean\".\n",
    "# See above link for details on how to do this."
   ]
  },
  {
   "cell_type": "code",
   "execution_count": null,
   "metadata": {
    "collapsed": true,
    "jupyter": {
     "outputs_hidden": true
    }
   },
   "outputs": [],
   "source": [
    "# Execute this cell.\n",
    "mr_sig_mean.tail(3)"
   ]
  },
  {
   "cell_type": "markdown",
   "metadata": {},
   "source": [
    "https://pandas.pydata.org/pandas-docs/stable/generated/pandas.DataFrame.std.html"
   ]
  },
  {
   "cell_type": "code",
   "execution_count": 11,
   "metadata": {
    "collapsed": true,
    "jupyter": {
     "outputs_hidden": true
    }
   },
   "outputs": [],
   "source": [
    "# In this cell, assign the cross sectional standard deviation to a pandas time series called \"mr_sig_std\".\n",
    "# See above link for details on how to do this."
   ]
  },
  {
   "cell_type": "code",
   "execution_count": null,
   "metadata": {
    "collapsed": true,
    "jupyter": {
     "outputs_hidden": true
    }
   },
   "outputs": [],
   "source": [
    "# Execute this cell.\n",
    "mr_sig_std.tail(3)"
   ]
  },
  {
   "cell_type": "markdown",
   "metadata": {},
   "source": [
    "https://pandas.pydata.org/pandas-docs/stable/generated/pandas.DataFrame.sub.html    \n",
    "https://pandas.pydata.org/pandas-docs/stable/generated/pandas.DataFrame.div.html"
   ]
  },
  {
   "cell_type": "code",
   "execution_count": 12,
   "metadata": {
    "collapsed": true,
    "jupyter": {
     "outputs_hidden": true
    }
   },
   "outputs": [],
   "source": [
    "# It is convenient (but does not affect strategy performance) to normalize our signals to have mean 0, variance 1.\n",
    "# So try to do something like mr_sig_norm = (mr_sig_raw - mr_sig_mean) / mr_sig_std (BUT THIS syntax won't work!)\n",
    "# See above links for details of how to do this."
   ]
  },
  {
   "cell_type": "code",
   "execution_count": null,
   "metadata": {
    "collapsed": true,
    "jupyter": {
     "outputs_hidden": true
    }
   },
   "outputs": [],
   "source": [
    "# Execute this cell.\n",
    "mr_sig_norm.tail(3)  # You should get panel of standard deviations."
   ]
  },
  {
   "cell_type": "code",
   "execution_count": null,
   "metadata": {
    "collapsed": true,
    "jupyter": {
     "outputs_hidden": true
    }
   },
   "outputs": [],
   "source": [
    "# We want to do something similar to get a momentum signal.  We want to consider the last year of\n",
    "# returns (we'll use 252 trading days), but excluding the most recent month (21 prior trading days + today).\n",
    "# Execute this cell.\n",
    "mom_sig_raw = df_rtn.shift(22).rolling(231).sum().dropna()\n",
    "mom_sig_raw.head(3)"
   ]
  },
  {
   "cell_type": "code",
   "execution_count": 13,
   "metadata": {
    "collapsed": true,
    "jupyter": {
     "outputs_hidden": true
    }
   },
   "outputs": [],
   "source": [
    "# In this cell put in the various commands to normalize the momentum signal to have mean 0 and variance 1,\n",
    "# and assign it to a DataFrame called \"mom_sig_norm\"."
   ]
  },
  {
   "cell_type": "code",
   "execution_count": null,
   "metadata": {
    "collapsed": true,
    "jupyter": {
     "outputs_hidden": true
    }
   },
   "outputs": [],
   "source": [
    "# Execute this cell.\n",
    "mom_sig_norm.tail(3)  # You should get panel of standard deviations."
   ]
  },
  {
   "cell_type": "code",
   "execution_count": null,
   "metadata": {
    "collapsed": true,
    "jupyter": {
     "outputs_hidden": true
    }
   },
   "outputs": [],
   "source": [
    "# Execute this cell.\n",
    "mom_rtn = (mom_sig_norm/(574-1) * df_rtn).dropna().sum(axis=1)\n",
    "# What we have done used mom_sig_norm / (N-1), with N=574 to use as a position size in dollars.\n",
    "# I'll explain in lecture the connection between this and the Fama-Macbeth procedure for 1 factor.\n",
    "# Here \"mom_rtn\" is a return of the momentum strategy in dollars, not percent.\n",
    "# It is IMPORTANT to drop the NaN values BEFORE doing the cross sectional sum; otherwise\n",
    "# you will get a lot of spurious zeros that won't be dropped."
   ]
  },
  {
   "cell_type": "code",
   "execution_count": null,
   "metadata": {
    "collapsed": true,
    "jupyter": {
     "outputs_hidden": true
    }
   },
   "outputs": [],
   "source": [
    "# Execute this cell.\n",
    "mom_rtn_mean = mom_rtn.mean() * 252     # We express our mean return on an annual basis.\n",
    "mom_rtn_std = mom_rtn.std() * 252**0.5  # We express our standard deviation on an annual basis.\n",
    "mom_SR = mom_rtn_mean / mom_rtn_std     # This is the annual Sharpe ratio of our strategy.\n",
    "print(mom_rtn_mean, mom_rtn_std, mom_SR)  # You should get a Sharpe ratio of +0.83"
   ]
  },
  {
   "cell_type": "code",
   "execution_count": null,
   "metadata": {
    "collapsed": true,
    "jupyter": {
     "outputs_hidden": true
    }
   },
   "outputs": [],
   "source": [
    "# Execute this cell.\n",
    "mr_rtn = (mr_sig_norm/(574-1) * df_rtn).truncate(before='2014-01-02').sum(axis=1)\n",
    "# We truncate the time before Jan 2014 so that both the momentum series and the mean\n",
    "# reversion series have the same date range (2 years of data)."
   ]
  },
  {
   "cell_type": "code",
   "execution_count": 14,
   "metadata": {
    "collapsed": true,
    "jupyter": {
     "outputs_hidden": true
    }
   },
   "outputs": [],
   "source": [
    "# In this cell, put in the various commands to calculate annualized mean, standard deviation and\n",
    "# Sharpe ratio of the mean reversion strategy.  You should get a Sharpe ratio of +0.87"
   ]
  },
  {
   "cell_type": "code",
   "execution_count": null,
   "metadata": {
    "collapsed": true,
    "jupyter": {
     "outputs_hidden": true
    }
   },
   "outputs": [],
   "source": [
    "# Execute this cell.\n",
    "both_rtn = 0.5*mom_rtn + 0.5*mr_rtn  # This is the return of a 50/50 portfolio of both strategies."
   ]
  },
  {
   "cell_type": "code",
   "execution_count": null,
   "metadata": {
    "collapsed": true,
    "jupyter": {
     "outputs_hidden": true
    }
   },
   "outputs": [],
   "source": [
    "# In this cell, put in the various commands to calculate annualized mean, standard deviation and\n",
    "# Sharpe ratio of the 50/50 \"both\" strategy.  Did you expect a lower or higher Sharpe ratio?"
   ]
  },
  {
   "cell_type": "code",
   "execution_count": null,
   "metadata": {
    "collapsed": true,
    "jupyter": {
     "outputs_hidden": true
    }
   },
   "outputs": [],
   "source": [
    "# Execute this cell.\n",
    "plt.figure()  # This tells Python to start a new figure.\n",
    "mom_rtn.cumsum().plot()\n",
    "mr_rtn.cumsum().plot()\n",
    "both_rtn.cumsum().plot()  # All three plots you be plotted on the same figure below."
   ]
  },
  {
   "cell_type": "code",
   "execution_count": null,
   "metadata": {
    "collapsed": true,
    "jupyter": {
     "outputs_hidden": true
    }
   },
   "outputs": [],
   "source": [
    "# Actually it make more sense to visually compare plots of strategies when they have been normalized to have\n",
    "# the same volatility.  That way the highest Sharpe ratio strategy will also be shown to have the\n",
    "# highest return.  Here we plot each strategy normalized to have 15% volatility (similar to S&P 500 index volatility).\n",
    "# Execute this cell.\n",
    "plt.figure()\n",
    "(mom_rtn.cumsum()/mom_rtn_std*0.15).plot()\n",
    "(mr_rtn.cumsum()/mr_rtn_std*0.15).plot()\n",
    "(both_rtn.cumsum()/both_rtn_std*0.15).plot()"
   ]
  },
  {
   "cell_type": "markdown",
   "metadata": {},
   "source": [
    "https://pandas.pydata.org/pandas-docs/stable/generated/pandas.concat.html"
   ]
  },
  {
   "cell_type": "code",
   "execution_count": 15,
   "metadata": {
    "collapsed": true,
    "jupyter": {
     "outputs_hidden": true
    }
   },
   "outputs": [],
   "source": [
    "# In this cell, create a single Dataframe \"df_factors\" made from mom_rtn and mr_rtn,\n",
    "# and assign column names \"mom\" and \"mr\" respectively.\n",
    "# See above link for details on how to do this."
   ]
  },
  {
   "cell_type": "code",
   "execution_count": null,
   "metadata": {
    "collapsed": true,
    "jupyter": {
     "outputs_hidden": true
    }
   },
   "outputs": [],
   "source": [
    "# Execute this cell.\n",
    "df_factors.head(3)"
   ]
  },
  {
   "cell_type": "markdown",
   "metadata": {},
   "source": [
    "https://pandas.pydata.org/pandas-docs/stable/generated/pandas.DataFrame.cov.html"
   ]
  },
  {
   "cell_type": "code",
   "execution_count": 16,
   "metadata": {
    "collapsed": true,
    "jupyter": {
     "outputs_hidden": true
    }
   },
   "outputs": [],
   "source": [
    "# In this cell, display the covariance matrix of df_factors."
   ]
  },
  {
   "cell_type": "markdown",
   "metadata": {},
   "source": [
    "https://pandas.pydata.org/pandas-docs/stable/generated/pandas.DataFrame.corr.html"
   ]
  },
  {
   "cell_type": "code",
   "execution_count": null,
   "metadata": {
    "collapsed": true,
    "jupyter": {
     "outputs_hidden": true
    }
   },
   "outputs": [],
   "source": [
    "# In this cell, display the correlation matrix of df_factors."
   ]
  },
  {
   "cell_type": "markdown",
   "metadata": {},
   "source": [
    "Please think about this:\n",
    "\n",
    "Given the returns, variances and covariances, how would you calculate the weighting of the two strategies to get the maximal Sharpe ratio?"
   ]
  }
 ],
 "metadata": {
  "kernelspec": {
   "display_name": "Python 3 (ipykernel)",
   "language": "python",
   "name": "python3"
  },
  "language_info": {
   "codemirror_mode": {
    "name": "ipython",
    "version": 3
   },
   "file_extension": ".py",
   "mimetype": "text/x-python",
   "name": "python",
   "nbconvert_exporter": "python",
   "pygments_lexer": "ipython3",
   "version": "3.9.18"
  }
 },
 "nbformat": 4,
 "nbformat_minor": 4
}
