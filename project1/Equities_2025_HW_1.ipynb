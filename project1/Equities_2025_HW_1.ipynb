{
 "cells": [
  {
   "cell_type": "markdown",
   "metadata": {},
   "source": [
    "Oriel Savir"
   ]
  },
  {
   "cell_type": "markdown",
   "metadata": {},
   "source": [
    "Resources for completing this homework:  \n",
    "https://en.wikipedia.org/wiki/List_of_S%26P_400_companies  \n",
    "https://pandas.pydata.org/pandas-docs/stable/user_guide/10min.html  \n",
    "https://pandas.pydata.org/docs/reference/api/pandas.read_html.html  \n",
    "https://pandas.pydata.org/pandas-docs/stable/io.html#io-read-html  \n",
    "https://pypi.org/project/yfinance  \n",
    "https://docs.python.org/3/library/datetime.html#datetime-objects  "
   ]
  },
  {
   "cell_type": "markdown",
   "metadata": {},
   "source": [
    "INSTRUCTIONS:    \n",
    "In the cells below, replace the comments with your code.  If you need to add new cells, do at the bottom of the workbook rather than in the middle, because I will be automatically loading everyone's answers, and I'll need everyone's code in the same cells."
   ]
  },
  {
   "cell_type": "code",
   "execution_count": 1,
   "metadata": {
    "collapsed": true,
    "jupyter": {
     "outputs_hidden": true
    }
   },
   "outputs": [],
   "source": [
    "# In this cell, import the pandas library and alias to \"pd\".\n",
    "# The pandas library manipulates tables and time series,\n",
    "# and was written specifically with financial applications in mind.\n",
    "import pandas as pd"
   ]
  },
  {
   "cell_type": "code",
   "execution_count": 2,
   "metadata": {},
   "outputs": [],
   "source": [
    "# Consider the url link given above to a page that contains the components of the S&P MidCap 400 index.\n",
    "# In this cell, use pandas read_html() function to read html tables into a list of pandas DataFrames.\n",
    "# A \"DataFrame\" is the basic data structure in pandas.  It is a table which allows SQL-like queries.\n",
    "# Depending on the particualar html table, you may or may not need to include the parameter header=0.\n",
    "# Assign the output to a variable called list_of_DataFrames.\n",
    "\n",
    "url = \"https://en.wikipedia.org/wiki/List_of_S%26P_400_companies\"\n",
    "list_of_DataFrames = pd.read_html(url, header=0)\n"
   ]
  },
  {
   "cell_type": "code",
   "execution_count": 3,
   "metadata": {
    "collapsed": true,
    "jupyter": {
     "outputs_hidden": true
    }
   },
   "outputs": [
    {
     "name": "stdout",
     "output_type": "stream",
     "text": [
      "3\n",
      "<class 'pandas.core.frame.DataFrame'>\n",
      "401\n"
     ]
    }
   ],
   "source": [
    "# Execute this cell.\n",
    "print(len(list_of_DataFrames))  # How many tables are there? Answer: 3 tables\n",
    "df = list_of_DataFrames[0]      # We care about the first table.\n",
    "print(type(df))                 # What type is df? Answer: pandas.core.frame.DataFrame type\n",
    "print(len(df))                  # How many rows in df? Answer: 401 rows (since the first row is the header)"
   ]
  },
  {
   "cell_type": "code",
   "execution_count": 4,
   "metadata": {
    "collapsed": true,
    "jupyter": {
     "outputs_hidden": true
    }
   },
   "outputs": [
    {
     "data": {
      "text/html": [
       "<div>\n",
       "<style scoped>\n",
       "    .dataframe tbody tr th:only-of-type {\n",
       "        vertical-align: middle;\n",
       "    }\n",
       "\n",
       "    .dataframe tbody tr th {\n",
       "        vertical-align: top;\n",
       "    }\n",
       "\n",
       "    .dataframe thead th {\n",
       "        text-align: right;\n",
       "    }\n",
       "</style>\n",
       "<table border=\"1\" class=\"dataframe\">\n",
       "  <thead>\n",
       "    <tr style=\"text-align: right;\">\n",
       "      <th></th>\n",
       "      <th>Symbol</th>\n",
       "      <th>Security</th>\n",
       "      <th>GICS Sector</th>\n",
       "      <th>GICS Sub-Industry</th>\n",
       "      <th>Headquarters Location</th>\n",
       "      <th>SEC filings</th>\n",
       "    </tr>\n",
       "  </thead>\n",
       "  <tbody>\n",
       "    <tr>\n",
       "      <th>0</th>\n",
       "      <td>AA</td>\n",
       "      <td>Alcoa</td>\n",
       "      <td>Materials</td>\n",
       "      <td>Aluminum</td>\n",
       "      <td>Pittsburgh, Pennsylvania</td>\n",
       "      <td>reports</td>\n",
       "    </tr>\n",
       "    <tr>\n",
       "      <th>1</th>\n",
       "      <td>AAL</td>\n",
       "      <td>American Airlines Group</td>\n",
       "      <td>Industrials</td>\n",
       "      <td>Passenger Airlines</td>\n",
       "      <td>Fort Worth, Texas</td>\n",
       "      <td>reports</td>\n",
       "    </tr>\n",
       "    <tr>\n",
       "      <th>2</th>\n",
       "      <td>AAON</td>\n",
       "      <td>AAON</td>\n",
       "      <td>Industrials</td>\n",
       "      <td>Building Products</td>\n",
       "      <td>Tulsa, Oklahoma</td>\n",
       "      <td>reports</td>\n",
       "    </tr>\n",
       "  </tbody>\n",
       "</table>\n",
       "</div>"
      ],
      "text/plain": [
       "  Symbol                 Security  GICS Sector   GICS Sub-Industry  \\\n",
       "0     AA                    Alcoa    Materials            Aluminum   \n",
       "1    AAL  American Airlines Group  Industrials  Passenger Airlines   \n",
       "2   AAON                     AAON  Industrials   Building Products   \n",
       "\n",
       "      Headquarters Location SEC filings  \n",
       "0  Pittsburgh, Pennsylvania     reports  \n",
       "1         Fort Worth, Texas     reports  \n",
       "2           Tulsa, Oklahoma     reports  "
      ]
     },
     "execution_count": 4,
     "metadata": {},
     "output_type": "execute_result"
    }
   ],
   "source": [
    "# In this cell, execute code to display the first three rows of the table.\n",
    "df.head(3)"
   ]
  },
  {
   "cell_type": "code",
   "execution_count": 5,
   "metadata": {
    "collapsed": true,
    "jupyter": {
     "outputs_hidden": true
    }
   },
   "outputs": [
    {
     "data": {
      "text/html": [
       "<div>\n",
       "<style scoped>\n",
       "    .dataframe tbody tr th:only-of-type {\n",
       "        vertical-align: middle;\n",
       "    }\n",
       "\n",
       "    .dataframe tbody tr th {\n",
       "        vertical-align: top;\n",
       "    }\n",
       "\n",
       "    .dataframe thead th {\n",
       "        text-align: right;\n",
       "    }\n",
       "</style>\n",
       "<table border=\"1\" class=\"dataframe\">\n",
       "  <thead>\n",
       "    <tr style=\"text-align: right;\">\n",
       "      <th></th>\n",
       "      <th>Symbol</th>\n",
       "      <th>Security</th>\n",
       "      <th>GICS Sector</th>\n",
       "      <th>GICS Sub-Industry</th>\n",
       "      <th>Headquarters Location</th>\n",
       "      <th>SEC filings</th>\n",
       "    </tr>\n",
       "  </thead>\n",
       "  <tbody>\n",
       "    <tr>\n",
       "      <th>398</th>\n",
       "      <td>YETI</td>\n",
       "      <td>Yeti Holdings</td>\n",
       "      <td>Consumer Discretionary</td>\n",
       "      <td>Leisure Products</td>\n",
       "      <td>Austin, Texas</td>\n",
       "      <td>reports</td>\n",
       "    </tr>\n",
       "    <tr>\n",
       "      <th>399</th>\n",
       "      <td>ZI</td>\n",
       "      <td>ZoomInfo</td>\n",
       "      <td>Communication Services</td>\n",
       "      <td>Interactive Media &amp; Services</td>\n",
       "      <td>Vancouver, Washington</td>\n",
       "      <td>reports</td>\n",
       "    </tr>\n",
       "    <tr>\n",
       "      <th>400</th>\n",
       "      <td>ZION</td>\n",
       "      <td>Zions Bancorporation</td>\n",
       "      <td>Financials</td>\n",
       "      <td>Regional Banks</td>\n",
       "      <td>Salt Lake City, Utah</td>\n",
       "      <td>reports</td>\n",
       "    </tr>\n",
       "  </tbody>\n",
       "</table>\n",
       "</div>"
      ],
      "text/plain": [
       "    Symbol              Security             GICS Sector  \\\n",
       "398   YETI         Yeti Holdings  Consumer Discretionary   \n",
       "399     ZI              ZoomInfo  Communication Services   \n",
       "400   ZION  Zions Bancorporation              Financials   \n",
       "\n",
       "                GICS Sub-Industry  Headquarters Location SEC filings  \n",
       "398              Leisure Products          Austin, Texas     reports  \n",
       "399  Interactive Media & Services  Vancouver, Washington     reports  \n",
       "400                Regional Banks   Salt Lake City, Utah     reports  "
      ]
     },
     "execution_count": 5,
     "metadata": {},
     "output_type": "execute_result"
    }
   ],
   "source": [
    "# In this cell, execute code to display the last three rows of the table.\n",
    "df.tail(3)"
   ]
  },
  {
   "cell_type": "code",
   "execution_count": 6,
   "metadata": {
    "collapsed": true,
    "jupyter": {
     "outputs_hidden": true
    }
   },
   "outputs": [],
   "source": [
    "# In this cell, select the symbol column and convert it to a list called tickerList.\n",
    "tickerList = df['Symbol'].tolist()"
   ]
  },
  {
   "cell_type": "code",
   "execution_count": 7,
   "metadata": {
    "collapsed": true,
    "jupyter": {
     "outputs_hidden": true
    }
   },
   "outputs": [
    {
     "name": "stdout",
     "output_type": "stream",
     "text": [
      "['AA', 'AAL', 'AAON', 'ACHC', 'ACM', 'ADC', 'AFG', 'AGCO', 'AIT', 'ALE', 'ALGM', 'ALLY', 'ALTM', 'ALTR', 'ALV', 'AM', 'AMED', 'AMG', 'AMH', 'AMKR', 'AN', 'ANF', 'APPF', 'AR', 'ARMK', 'ARW', 'ASB', 'ASGN', 'ASH', 'ATR', 'AVNT', 'AVT', 'AVTR', 'AXTA', 'AYI', 'AZPN', 'BC', 'BCO', 'BDC', 'BERY', 'BHF', 'BILL', 'BIO', 'BJ', 'BKH', 'BLD', 'BLKB', 'BMRN', 'BRBR', 'BRKR', 'BRX', 'BURL', 'BWXT', 'BYD', 'CACI', 'CADE', 'CAR', 'CART', 'CASY', 'CBSH', 'CBT', 'CC', 'CCK', 'CDP', 'CELH', 'CFR', 'CG', 'CGNX', 'CHDN', 'CHE', 'CHH', 'CHRD', 'CHWY', 'CHX', 'CIEN', 'CIVI', 'CLF', 'CLH', 'CMA', 'CMC', 'CNH', 'CNM', 'CNO', 'CNX', 'CNXC', 'COHR', 'COKE', 'COLB', 'COLM', 'COTY', 'CPRI', 'CR', 'CROX', 'CRS', 'CRUS', 'CSL', 'CUBE', 'CUZ', 'CVLT', 'CW', 'CXT', 'CYTK', 'DAR', 'DBX', 'DCI', 'DINO', 'DKS', 'DLB', 'DOCS', 'DOCU', 'DT', 'DTM', 'DUOL', 'EEFT', 'EGP', 'EHC', 'ELF', 'ELS', 'EME', 'ENS', 'ENSG', 'EPR', 'EQH', 'ESAB', 'ESNT', 'EVR', 'EWBC', 'EXE', 'EXEL', 'EXLS', 'EXP', 'EXPO', 'FAF', 'FBIN', 'FCFS', 'FCN', 'FFIN', 'FHI', 'FHN', 'FIVE', 'FIX', 'FLEX', 'FLG', 'FLO', 'FLR', 'FLS', 'FN', 'FNB', 'FND', 'FNF', 'FOUR', 'FR', 'FYBR', 'G', 'GAP', 'GATX', 'GBCI', 'GEF', 'GGG', 'GHC', 'GLPI', 'GME', 'GMED', 'GNTX', 'GPK', 'GT', 'GTLS', 'GWRE', 'GXO', 'H', 'HAE', 'HALO', 'HGV', 'HLI', 'HLNE', 'HOG', 'HOMB', 'HQY', 'HR', 'HRB', 'HWC', 'HXL', 'IBKR', 'IBOC', 'IDA', 'ILMN', 'INGR', 'IPGP', 'IRDM', 'IRT', 'ITT', 'JAZZ', 'JEF', 'JHG', 'JLL', 'JWN', 'KBH', 'KBR', 'KD', 'KEX', 'KMPR', 'KNF', 'KNSL', 'KNX', 'KRC', 'KRG', 'LAD', 'LAMR', 'LANC', 'LEA', 'LECO', 'LFUS', 'LITE', 'LIVN', 'LNTH', 'LNW', 'LOPE', 'LPX', 'LSCC', 'LSTR', 'M', 'MAN', 'MANH', 'MASI', 'MAT', 'MEDP', 'MIDD', 'MKSI', 'MLI', 'MMS', 'MORN', 'MSA', 'MSM', 'MTDR', 'MTG', 'MTN', 'MTSI', 'MTZ', 'MUR', 'MUSA', 'NBIX', 'NEOG', 'NEU', 'NFG', 'NJR', 'NLY', 'NNN', 'NOV', 'NOVT', 'NSA', 'NSP', 'NVST', 'NVT', 'NWE', 'NXST', 'NXT', 'NYT', 'OC', 'OGE', 'OGS', 'OHI', 'OLED', 'OLLI', 'OLN', 'ONB', 'ONTO', 'OPCH', 'ORA', 'ORI', 'OSK', 'OVV', 'OZK', 'PAG', 'PB', 'PBF', 'PCH', 'PCTY', 'PEN', 'PFGC', 'PII', 'PK', 'PLNT', 'PNFP', 'POR', 'POST', 'POWI', 'PPC', 'PR', 'PRGO', 'PRI', 'PSN', 'PSTG', 'PVH', 'QLYS', 'R', 'RBA', 'RBC', 'REXR', 'RGA', 'RGEN', 'RGLD', 'RH', 'RLI', 'RMBS', 'RNR', 'ROIV', 'RPM', 'RRC', 'RRX', 'RS', 'RYAN', 'RYN', 'SAIA', 'SAIC', 'SAM', 'SBRA', 'SCI', 'SEIC', 'SF', 'SFM', 'SHC', 'SIGI', 'SKX', 'SLAB', 'SLGN', 'SLM', 'SMG', 'SNV', 'SNX', 'SON', 'SR', 'SRPT', 'SSB', 'SSD', 'ST', 'STAG', 'STWD', 'SWX', 'SYNA', 'TCBI', 'TDC', 'TEX', 'THC', 'THG', 'THO', 'TKO', 'TKR', 'TMHC', 'TNL', 'TOL', 'TPX', 'TREX', 'TTC', 'TTEK', 'TXNM', 'TXRH', 'UA', 'UAA', 'UBSI', 'UFPI', 'UGI', 'UMBF', 'UNM', 'USFD', 'UTHR', 'VAC', 'VAL', 'VC', 'VLY', 'VMI', 'VNO', 'VNOM', 'VNT', 'VOYA', 'VVV', 'WAL', 'WBS', 'WCC', 'WEN', 'WEX', 'WFRD', 'WH', 'WHR', 'WING', 'WLK', 'WMG', 'WMS', 'WPC', 'WSM', 'WSO', 'WTFC', 'WTRG', 'WTS', 'WU', 'WWD', 'X', 'XPO', 'XRAY', 'YETI', 'ZI', 'ZION']\n"
     ]
    }
   ],
   "source": [
    "# Execute this cell.\n",
    "print(tickerList)"
   ]
  },
  {
   "cell_type": "code",
   "execution_count": 8,
   "metadata": {
    "collapsed": true,
    "jupyter": {
     "outputs_hidden": true
    }
   },
   "outputs": [],
   "source": [
    "# In this cell, select the GICS sector column and convert it to a set called sectorSet.\n",
    "sectorSet = set(df['GICS Sector'])"
   ]
  },
  {
   "cell_type": "code",
   "execution_count": 9,
   "metadata": {
    "collapsed": true,
    "jupyter": {
     "outputs_hidden": true
    }
   },
   "outputs": [
    {
     "name": "stdout",
     "output_type": "stream",
     "text": [
      "11\n",
      "{'Industrials', 'Real Estate', 'Utilities', 'Consumer Discretionary', 'Energy', 'Health Care', 'Materials', 'Communication Services', 'Consumer Staples', 'Financials', 'Information Technology'}\n"
     ]
    }
   ],
   "source": [
    "# Execute this cell.  Do you understand the difference between sets and lists?\n",
    "print(len(sectorSet))\n",
    "print(sectorSet)\n",
    "\n",
    "#Answer: I do understand the difference. A set allows for O(1) lookup and insertion time, and also does not have repeated elements. A list does not have these properties and can have repeats."
   ]
  },
  {
   "cell_type": "code",
   "execution_count": 10,
   "metadata": {
    "collapsed": true,
    "jupyter": {
     "outputs_hidden": true
    }
   },
   "outputs": [
    {
     "name": "stdout",
     "output_type": "stream",
     "text": [
      "<class 'numpy.ndarray'>\n"
     ]
    },
    {
     "data": {
      "text/plain": [
       "(401, 6)"
      ]
     },
     "execution_count": 10,
     "metadata": {},
     "output_type": "execute_result"
    }
   ],
   "source": [
    "# Execute this cell.\n",
    "print(type(df.values))  # The values of the DataFrame are actually held in a numpy array.\n",
    "df.values.shape         # We have a 401 row x 6 column array."
   ]
  },
  {
   "cell_type": "code",
   "execution_count": 11,
   "metadata": {
    "collapsed": true,
    "jupyter": {
     "outputs_hidden": true
    }
   },
   "outputs": [
    {
     "data": {
      "text/html": [
       "<div>\n",
       "<style scoped>\n",
       "    .dataframe tbody tr th:only-of-type {\n",
       "        vertical-align: middle;\n",
       "    }\n",
       "\n",
       "    .dataframe tbody tr th {\n",
       "        vertical-align: top;\n",
       "    }\n",
       "\n",
       "    .dataframe thead th {\n",
       "        text-align: right;\n",
       "    }\n",
       "</style>\n",
       "<table border=\"1\" class=\"dataframe\">\n",
       "  <thead>\n",
       "    <tr style=\"text-align: right;\">\n",
       "      <th></th>\n",
       "      <th>Symbol</th>\n",
       "      <th>Security</th>\n",
       "      <th>GICS Sector</th>\n",
       "      <th>GICS Sub-Industry</th>\n",
       "      <th>Headquarters Location</th>\n",
       "      <th>SEC filings</th>\n",
       "    </tr>\n",
       "  </thead>\n",
       "  <tbody>\n",
       "    <tr>\n",
       "      <th>43</th>\n",
       "      <td>BJ</td>\n",
       "      <td>BJ's Wholesale Club</td>\n",
       "      <td>Consumer Staples</td>\n",
       "      <td>Hypermarkets &amp; Super Centers</td>\n",
       "      <td>Marlborough, Massachusetts</td>\n",
       "      <td>reports</td>\n",
       "    </tr>\n",
       "    <tr>\n",
       "      <th>48</th>\n",
       "      <td>BRBR</td>\n",
       "      <td>BellRing Brands</td>\n",
       "      <td>Consumer Staples</td>\n",
       "      <td>Packaged Foods &amp; Meats</td>\n",
       "      <td>NaN</td>\n",
       "      <td>reports</td>\n",
       "    </tr>\n",
       "    <tr>\n",
       "      <th>57</th>\n",
       "      <td>CART</td>\n",
       "      <td>Maplebear Inc.</td>\n",
       "      <td>Consumer Staples</td>\n",
       "      <td>Food Retail</td>\n",
       "      <td>San Francisco, California</td>\n",
       "      <td>reports</td>\n",
       "    </tr>\n",
       "  </tbody>\n",
       "</table>\n",
       "</div>"
      ],
      "text/plain": [
       "   Symbol             Security       GICS Sector  \\\n",
       "43     BJ  BJ's Wholesale Club  Consumer Staples   \n",
       "48   BRBR      BellRing Brands  Consumer Staples   \n",
       "57   CART       Maplebear Inc.  Consumer Staples   \n",
       "\n",
       "               GICS Sub-Industry       Headquarters Location SEC filings  \n",
       "43  Hypermarkets & Super Centers  Marlborough, Massachusetts     reports  \n",
       "48        Packaged Foods & Meats                         NaN     reports  \n",
       "57                   Food Retail   San Francisco, California     reports  "
      ]
     },
     "execution_count": 11,
     "metadata": {},
     "output_type": "execute_result"
    }
   ],
   "source": [
    "# What is the difference between Consumer Staples and Consumer Discretionary?\n",
    "# First execute this code that extracts the first 3 of the S&P 400 companies in the Consumer Staples sector.\n",
    "df[df['GICS Sector']=='Consumer Staples'].head(3)\n",
    "# Do you understand how this code works?  What does df['GICS sector']=='Consumer Staples' do? Answer: It selects the rows where the GICS sector is 'Consumer Staples' alongside the table headers."
   ]
  },
  {
   "cell_type": "code",
   "execution_count": 12,
   "metadata": {
    "collapsed": true,
    "jupyter": {
     "outputs_hidden": true
    }
   },
   "outputs": [
    {
     "data": {
      "text/html": [
       "<div>\n",
       "<style scoped>\n",
       "    .dataframe tbody tr th:only-of-type {\n",
       "        vertical-align: middle;\n",
       "    }\n",
       "\n",
       "    .dataframe tbody tr th {\n",
       "        vertical-align: top;\n",
       "    }\n",
       "\n",
       "    .dataframe thead th {\n",
       "        text-align: right;\n",
       "    }\n",
       "</style>\n",
       "<table border=\"1\" class=\"dataframe\">\n",
       "  <thead>\n",
       "    <tr style=\"text-align: right;\">\n",
       "      <th></th>\n",
       "      <th>Symbol</th>\n",
       "      <th>Security</th>\n",
       "      <th>GICS Sector</th>\n",
       "      <th>GICS Sub-Industry</th>\n",
       "      <th>Headquarters Location</th>\n",
       "      <th>SEC filings</th>\n",
       "    </tr>\n",
       "  </thead>\n",
       "  <tbody>\n",
       "    <tr>\n",
       "      <th>14</th>\n",
       "      <td>ALV</td>\n",
       "      <td>Autoliv</td>\n",
       "      <td>Consumer Discretionary</td>\n",
       "      <td>Automotive Parts &amp; Equipment</td>\n",
       "      <td>Stockholm, Sweden</td>\n",
       "      <td>reports</td>\n",
       "    </tr>\n",
       "    <tr>\n",
       "      <th>20</th>\n",
       "      <td>AN</td>\n",
       "      <td>AutoNation</td>\n",
       "      <td>Consumer Discretionary</td>\n",
       "      <td>Automotive Retail</td>\n",
       "      <td>Fort Lauderdale, Florida</td>\n",
       "      <td>reports</td>\n",
       "    </tr>\n",
       "    <tr>\n",
       "      <th>21</th>\n",
       "      <td>ANF</td>\n",
       "      <td>Abercrombie &amp; Fitch</td>\n",
       "      <td>Consumer Discretionary</td>\n",
       "      <td>Apparel Retail</td>\n",
       "      <td>New Albany, Ohio</td>\n",
       "      <td>reports</td>\n",
       "    </tr>\n",
       "  </tbody>\n",
       "</table>\n",
       "</div>"
      ],
      "text/plain": [
       "   Symbol             Security             GICS Sector  \\\n",
       "14    ALV              Autoliv  Consumer Discretionary   \n",
       "20     AN           AutoNation  Consumer Discretionary   \n",
       "21    ANF  Abercrombie & Fitch  Consumer Discretionary   \n",
       "\n",
       "               GICS Sub-Industry     Headquarters Location SEC filings  \n",
       "14  Automotive Parts & Equipment         Stockholm, Sweden     reports  \n",
       "20             Automotive Retail  Fort Lauderdale, Florida     reports  \n",
       "21                Apparel Retail          New Albany, Ohio     reports  "
      ]
     },
     "execution_count": 12,
     "metadata": {},
     "output_type": "execute_result"
    }
   ],
   "source": [
    "# In this cell, repeat the above code for the Consumer Discretionary sector.\n",
    "df[df['GICS Sector']=='Consumer Discretionary'].head(3)"
   ]
  },
  {
   "cell_type": "markdown",
   "metadata": {},
   "source": [
    "Please install the `yfinance` package, using conda (or pip).\n",
    "(Best practice is to create a conda environment for this rather than installing to base.)\n",
    "`conda install -c conda-forge yfinance`  \n",
    "\n",
    "The `yfinance` library allows us to access data from Yahoo! Finance's API.  "
   ]
  },
  {
   "cell_type": "code",
   "execution_count": 13,
   "metadata": {
    "collapsed": true,
    "jupyter": {
     "outputs_hidden": true
    }
   },
   "outputs": [],
   "source": [
    "# In this cell, import the yfinance library.\n",
    "import yfinance"
   ]
  },
  {
   "cell_type": "code",
   "execution_count": 14,
   "metadata": {
    "collapsed": true,
    "jupyter": {
     "outputs_hidden": true
    }
   },
   "outputs": [],
   "source": [
    "# Execute this cell.\n",
    "from datetime import datetime"
   ]
  },
  {
   "cell_type": "code",
   "execution_count": 15,
   "metadata": {
    "collapsed": true,
    "jupyter": {
     "outputs_hidden": true
    }
   },
   "outputs": [],
   "source": [
    "# Use the datetime function to assign the date Feb 6, 2024 to a datetime object called \"startDate\".\n",
    "startDate = datetime(2024, 2, 6)"
   ]
  },
  {
   "cell_type": "code",
   "execution_count": 16,
   "metadata": {
    "collapsed": true,
    "jupyter": {
     "outputs_hidden": true
    }
   },
   "outputs": [],
   "source": [
    "# Use the datetime function to assign the date Feb 9, 2024 to a datetime object called \"endDate\".\n",
    "endDate = datetime(2024,2,9)"
   ]
  },
  {
   "cell_type": "code",
   "execution_count": 17,
   "metadata": {
    "collapsed": true,
    "jupyter": {
     "outputs_hidden": true
    }
   },
   "outputs": [],
   "source": [
    "# Pick your 3 favorite US companies and look up their symbols.\n",
    "# Put these 3 symbols in a list called \"mySymbols\".\n",
    "mySymbols = ['AAPL', 'MSFT', 'AMZN']"
   ]
  },
  {
   "cell_type": "code",
   "execution_count": 18,
   "metadata": {
    "collapsed": true,
    "jupyter": {
     "outputs_hidden": true
    }
   },
   "outputs": [
    {
     "name": "stdout",
     "output_type": "stream",
     "text": [
      "YF.download() has changed argument auto_adjust default to True\n"
     ]
    },
    {
     "name": "stderr",
     "output_type": "stream",
     "text": [
      "[*********************100%***********************]  3 of 3 completed\n"
     ]
    }
   ],
   "source": [
    "# Execute this cell.\n",
    "yahooDataFrame = yfinance.download(mySymbols, startDate, endDate)"
   ]
  },
  {
   "cell_type": "code",
   "execution_count": 19,
   "metadata": {
    "collapsed": true,
    "jupyter": {
     "outputs_hidden": true
    }
   },
   "outputs": [
    {
     "name": "stdout",
     "output_type": "stream",
     "text": [
      "<class 'pandas.core.frame.DataFrame'>\n",
      "(3, 15)\n"
     ]
    },
    {
     "data": {
      "text/html": [
       "<div>\n",
       "<style scoped>\n",
       "    .dataframe tbody tr th:only-of-type {\n",
       "        vertical-align: middle;\n",
       "    }\n",
       "\n",
       "    .dataframe tbody tr th {\n",
       "        vertical-align: top;\n",
       "    }\n",
       "\n",
       "    .dataframe thead tr th {\n",
       "        text-align: left;\n",
       "    }\n",
       "\n",
       "    .dataframe thead tr:last-of-type th {\n",
       "        text-align: right;\n",
       "    }\n",
       "</style>\n",
       "<table border=\"1\" class=\"dataframe\">\n",
       "  <thead>\n",
       "    <tr>\n",
       "      <th>Price</th>\n",
       "      <th colspan=\"3\" halign=\"left\">Close</th>\n",
       "      <th colspan=\"3\" halign=\"left\">High</th>\n",
       "      <th colspan=\"3\" halign=\"left\">Low</th>\n",
       "      <th colspan=\"3\" halign=\"left\">Open</th>\n",
       "      <th colspan=\"3\" halign=\"left\">Volume</th>\n",
       "    </tr>\n",
       "    <tr>\n",
       "      <th>Ticker</th>\n",
       "      <th>AAPL</th>\n",
       "      <th>AMZN</th>\n",
       "      <th>MSFT</th>\n",
       "      <th>AAPL</th>\n",
       "      <th>AMZN</th>\n",
       "      <th>MSFT</th>\n",
       "      <th>AAPL</th>\n",
       "      <th>AMZN</th>\n",
       "      <th>MSFT</th>\n",
       "      <th>AAPL</th>\n",
       "      <th>AMZN</th>\n",
       "      <th>MSFT</th>\n",
       "      <th>AAPL</th>\n",
       "      <th>AMZN</th>\n",
       "      <th>MSFT</th>\n",
       "    </tr>\n",
       "    <tr>\n",
       "      <th>Date</th>\n",
       "      <th></th>\n",
       "      <th></th>\n",
       "      <th></th>\n",
       "      <th></th>\n",
       "      <th></th>\n",
       "      <th></th>\n",
       "      <th></th>\n",
       "      <th></th>\n",
       "      <th></th>\n",
       "      <th></th>\n",
       "      <th></th>\n",
       "      <th></th>\n",
       "      <th></th>\n",
       "      <th></th>\n",
       "      <th></th>\n",
       "    </tr>\n",
       "  </thead>\n",
       "  <tbody>\n",
       "    <tr>\n",
       "      <th>2024-02-06</th>\n",
       "      <td>188.170258</td>\n",
       "      <td>169.149994</td>\n",
       "      <td>402.480286</td>\n",
       "      <td>188.180192</td>\n",
       "      <td>170.710007</td>\n",
       "      <td>404.941889</td>\n",
       "      <td>185.655358</td>\n",
       "      <td>167.649994</td>\n",
       "      <td>399.919449</td>\n",
       "      <td>185.744817</td>\n",
       "      <td>169.389999</td>\n",
       "      <td>402.867405</td>\n",
       "      <td>43490800</td>\n",
       "      <td>42505500</td>\n",
       "      <td>18382600</td>\n",
       "    </tr>\n",
       "    <tr>\n",
       "      <th>2024-02-07</th>\n",
       "      <td>188.279602</td>\n",
       "      <td>170.529999</td>\n",
       "      <td>410.976746</td>\n",
       "      <td>189.909814</td>\n",
       "      <td>170.880005</td>\n",
       "      <td>411.224890</td>\n",
       "      <td>187.484373</td>\n",
       "      <td>168.940002</td>\n",
       "      <td>404.376111</td>\n",
       "      <td>189.502257</td>\n",
       "      <td>169.479996</td>\n",
       "      <td>404.415822</td>\n",
       "      <td>53439000</td>\n",
       "      <td>47174100</td>\n",
       "      <td>22340500</td>\n",
       "    </tr>\n",
       "    <tr>\n",
       "      <th>2024-02-08</th>\n",
       "      <td>187.196106</td>\n",
       "      <td>169.839996</td>\n",
       "      <td>411.036316</td>\n",
       "      <td>188.408811</td>\n",
       "      <td>171.429993</td>\n",
       "      <td>412.475566</td>\n",
       "      <td>186.231894</td>\n",
       "      <td>168.880005</td>\n",
       "      <td>409.468057</td>\n",
       "      <td>188.259712</td>\n",
       "      <td>169.649994</td>\n",
       "      <td>410.976764</td>\n",
       "      <td>40962000</td>\n",
       "      <td>42316500</td>\n",
       "      <td>21225300</td>\n",
       "    </tr>\n",
       "  </tbody>\n",
       "</table>\n",
       "</div>"
      ],
      "text/plain": [
       "Price            Close                                High              \\\n",
       "Ticker            AAPL        AMZN        MSFT        AAPL        AMZN   \n",
       "Date                                                                     \n",
       "2024-02-06  188.170258  169.149994  402.480286  188.180192  170.710007   \n",
       "2024-02-07  188.279602  170.529999  410.976746  189.909814  170.880005   \n",
       "2024-02-08  187.196106  169.839996  411.036316  188.408811  171.429993   \n",
       "\n",
       "Price                          Low                                Open  \\\n",
       "Ticker            MSFT        AAPL        AMZN        MSFT        AAPL   \n",
       "Date                                                                     \n",
       "2024-02-06  404.941889  185.655358  167.649994  399.919449  185.744817   \n",
       "2024-02-07  411.224890  187.484373  168.940002  404.376111  189.502257   \n",
       "2024-02-08  412.475566  186.231894  168.880005  409.468057  188.259712   \n",
       "\n",
       "Price                                 Volume                      \n",
       "Ticker            AMZN        MSFT      AAPL      AMZN      MSFT  \n",
       "Date                                                              \n",
       "2024-02-06  169.389999  402.867405  43490800  42505500  18382600  \n",
       "2024-02-07  169.479996  404.415822  53439000  47174100  22340500  \n",
       "2024-02-08  169.649994  410.976764  40962000  42316500  21225300  "
      ]
     },
     "execution_count": 19,
     "metadata": {},
     "output_type": "execute_result"
    }
   ],
   "source": [
    "# Execute this cell.\n",
    "print(type(yahooDataFrame))\n",
    "print(yahooDataFrame.shape)\n",
    "yahooDataFrame"
   ]
  },
  {
   "cell_type": "code",
   "execution_count": 20,
   "metadata": {
    "collapsed": true,
    "jupyter": {
     "outputs_hidden": true
    }
   },
   "outputs": [],
   "source": [
    "# Select the columns of close prices and assign it to \"priceTable\".\n",
    "priceTable = yahooDataFrame['Close']"
   ]
  },
  {
   "cell_type": "code",
   "execution_count": 21,
   "metadata": {
    "collapsed": true,
    "jupyter": {
     "outputs_hidden": true
    }
   },
   "outputs": [
    {
     "name": "stdout",
     "output_type": "stream",
     "text": [
      "<class 'pandas.core.frame.DataFrame'>\n",
      "(3, 3)\n"
     ]
    },
    {
     "data": {
      "text/html": [
       "<div>\n",
       "<style scoped>\n",
       "    .dataframe tbody tr th:only-of-type {\n",
       "        vertical-align: middle;\n",
       "    }\n",
       "\n",
       "    .dataframe tbody tr th {\n",
       "        vertical-align: top;\n",
       "    }\n",
       "\n",
       "    .dataframe thead th {\n",
       "        text-align: right;\n",
       "    }\n",
       "</style>\n",
       "<table border=\"1\" class=\"dataframe\">\n",
       "  <thead>\n",
       "    <tr style=\"text-align: right;\">\n",
       "      <th>Ticker</th>\n",
       "      <th>AAPL</th>\n",
       "      <th>AMZN</th>\n",
       "      <th>MSFT</th>\n",
       "    </tr>\n",
       "    <tr>\n",
       "      <th>Date</th>\n",
       "      <th></th>\n",
       "      <th></th>\n",
       "      <th></th>\n",
       "    </tr>\n",
       "  </thead>\n",
       "  <tbody>\n",
       "    <tr>\n",
       "      <th>2024-02-06</th>\n",
       "      <td>188.170258</td>\n",
       "      <td>169.149994</td>\n",
       "      <td>402.480286</td>\n",
       "    </tr>\n",
       "    <tr>\n",
       "      <th>2024-02-07</th>\n",
       "      <td>188.279602</td>\n",
       "      <td>170.529999</td>\n",
       "      <td>410.976746</td>\n",
       "    </tr>\n",
       "    <tr>\n",
       "      <th>2024-02-08</th>\n",
       "      <td>187.196106</td>\n",
       "      <td>169.839996</td>\n",
       "      <td>411.036316</td>\n",
       "    </tr>\n",
       "  </tbody>\n",
       "</table>\n",
       "</div>"
      ],
      "text/plain": [
       "Ticker            AAPL        AMZN        MSFT\n",
       "Date                                          \n",
       "2024-02-06  188.170258  169.149994  402.480286\n",
       "2024-02-07  188.279602  170.529999  410.976746\n",
       "2024-02-08  187.196106  169.839996  411.036316"
      ]
     },
     "execution_count": 21,
     "metadata": {},
     "output_type": "execute_result"
    }
   ],
   "source": [
    "# Execute this cell.\n",
    "print(type(priceTable))\n",
    "print(priceTable.shape)\n",
    "priceTable"
   ]
  }
 ],
 "metadata": {
  "kernelspec": {
   "display_name": "quant_trading",
   "language": "python",
   "name": "python3"
  },
  "language_info": {
   "codemirror_mode": {
    "name": "ipython",
    "version": 3
   },
   "file_extension": ".py",
   "mimetype": "text/x-python",
   "name": "python",
   "nbconvert_exporter": "python",
   "pygments_lexer": "ipython3",
   "version": "3.13.2"
  }
 },
 "nbformat": 4,
 "nbformat_minor": 4
}
