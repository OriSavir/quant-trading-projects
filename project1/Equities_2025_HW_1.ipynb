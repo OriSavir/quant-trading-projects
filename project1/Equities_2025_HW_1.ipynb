{
 "cells": [
  {
   "cell_type": "markdown",
   "metadata": {},
   "source": [
    "**[Write your name in this box.]**"
   ]
  },
  {
   "cell_type": "markdown",
   "metadata": {},
   "source": [
    "Resources for completing this homework:  \n",
    "https://en.wikipedia.org/wiki/List_of_S%26P_400_companies  \n",
    "https://pandas.pydata.org/pandas-docs/stable/user_guide/10min.html  \n",
    "https://pandas.pydata.org/docs/reference/api/pandas.read_html.html  \n",
    "https://pandas.pydata.org/pandas-docs/stable/io.html#io-read-html  \n",
    "https://pypi.org/project/yfinance  \n",
    "https://docs.python.org/3/library/datetime.html#datetime-objects  "
   ]
  },
  {
   "cell_type": "markdown",
   "metadata": {},
   "source": [
    "INSTRUCTIONS:    \n",
    "In the cells below, replace the comments with your code.  If you need to add new cells, do at the bottom of the workbook rather than in the middle, because I will be automatically loading everyone's answers, and I'll need everyone's code in the same cells."
   ]
  },
  {
   "cell_type": "code",
   "execution_count": 2,
   "metadata": {
    "collapsed": true,
    "jupyter": {
     "outputs_hidden": true
    }
   },
   "outputs": [],
   "source": [
    "# In this cell, import the pandas library and alias to \"pd\".\n",
    "# The pandas library manipulates tables and time series,\n",
    "# and was written specifically with financial applications in mind."
   ]
  },
  {
   "cell_type": "code",
   "execution_count": 4,
   "metadata": {},
   "outputs": [],
   "source": [
    "# Consider the url link given above to a page that contains the components of the S&P MidCap 400 index.\n",
    "# In this cell, use pandas read_html() function to read html tables into a list of pandas DataFrames.\n",
    "# A \"DataFrame\" is the basic data structure in pandas.  It is a table which allows SQL-like queries.\n",
    "# Depending on the particualar html table, you may or may not need to include the parameter header=0.\n",
    "# Assign the output to a variable called list_of_DataFrames."
   ]
  },
  {
   "cell_type": "code",
   "execution_count": null,
   "metadata": {
    "collapsed": true,
    "jupyter": {
     "outputs_hidden": true
    }
   },
   "outputs": [],
   "source": [
    "# Execute this cell.\n",
    "print(len(list_of_DataFrames))  # How many tables are there?\n",
    "df = list_of_DataFrames[0]      # We care about the first table.\n",
    "print(type(df))                 # What type is df?\n",
    "print(len(df))                  # How many rows in df?"
   ]
  },
  {
   "cell_type": "code",
   "execution_count": 5,
   "metadata": {
    "collapsed": true,
    "jupyter": {
     "outputs_hidden": true
    }
   },
   "outputs": [],
   "source": [
    "# In this cell, execute code to display the first three rows of the table."
   ]
  },
  {
   "cell_type": "code",
   "execution_count": 6,
   "metadata": {
    "collapsed": true,
    "jupyter": {
     "outputs_hidden": true
    }
   },
   "outputs": [],
   "source": [
    "# In this cell, execute code to display the last three rows of the table."
   ]
  },
  {
   "cell_type": "code",
   "execution_count": 7,
   "metadata": {
    "collapsed": true,
    "jupyter": {
     "outputs_hidden": true
    }
   },
   "outputs": [],
   "source": [
    "# In this cell, select the symbol column and convert it to a list called tickerList."
   ]
  },
  {
   "cell_type": "code",
   "execution_count": null,
   "metadata": {
    "collapsed": true,
    "jupyter": {
     "outputs_hidden": true
    }
   },
   "outputs": [],
   "source": [
    "# Execute this cell.\n",
    "print(tickerList)"
   ]
  },
  {
   "cell_type": "code",
   "execution_count": null,
   "metadata": {
    "collapsed": true,
    "jupyter": {
     "outputs_hidden": true
    }
   },
   "outputs": [],
   "source": [
    "# In this cell, select the GICS sector column and convert it to a set called sectorSet."
   ]
  },
  {
   "cell_type": "code",
   "execution_count": null,
   "metadata": {
    "collapsed": true,
    "jupyter": {
     "outputs_hidden": true
    }
   },
   "outputs": [],
   "source": [
    "# Execute this cell.  Do you understand the difference between sets and lists?\n",
    "print(len(sectorSet))\n",
    "print(sectorSet)"
   ]
  },
  {
   "cell_type": "code",
   "execution_count": null,
   "metadata": {
    "collapsed": true,
    "jupyter": {
     "outputs_hidden": true
    }
   },
   "outputs": [],
   "source": [
    "# Execute this cell.\n",
    "print(type(df.values))  # The values of the DataFrame are actually held in a numpy array.\n",
    "df.values.shape         # We have a 401 row x 6 column array."
   ]
  },
  {
   "cell_type": "code",
   "execution_count": null,
   "metadata": {
    "collapsed": true,
    "jupyter": {
     "outputs_hidden": true
    }
   },
   "outputs": [],
   "source": [
    "# What is the difference between Consumer Staples and Consumer Discretionary?\n",
    "# First execute this code that extracts the first 3 of the S&P 400 companies in the Consumer Staples sector.\n",
    "df[df['GICS Sector']=='Consumer Staples'].head(3)\n",
    "# Do you understand how this code works?  What does df['GICS sector']=='Consumer Staples' do?"
   ]
  },
  {
   "cell_type": "code",
   "execution_count": 9,
   "metadata": {
    "collapsed": true,
    "jupyter": {
     "outputs_hidden": true
    }
   },
   "outputs": [],
   "source": [
    "# In this cell, repeat the above code for the Consumer Discretionary sector."
   ]
  },
  {
   "cell_type": "markdown",
   "metadata": {},
   "source": [
    "Please install the `yfinance` package, using conda (or pip).\n",
    "(Best practice is to create a conda environment for this rather than installing to base.)\n",
    "`conda install -c conda-forge yfinance`  \n",
    "\n",
    "The `yfinance` library allows us to access data from Yahoo! Finance's API.  "
   ]
  },
  {
   "cell_type": "code",
   "execution_count": 10,
   "metadata": {
    "collapsed": true,
    "jupyter": {
     "outputs_hidden": true
    }
   },
   "outputs": [],
   "source": [
    "# In this cell, import the yfinance library."
   ]
  },
  {
   "cell_type": "code",
   "execution_count": 1,
   "metadata": {
    "collapsed": true,
    "jupyter": {
     "outputs_hidden": true
    }
   },
   "outputs": [],
   "source": [
    "# Execute this cell.\n",
    "from datetime import datetime"
   ]
  },
  {
   "cell_type": "code",
   "execution_count": 11,
   "metadata": {
    "collapsed": true,
    "jupyter": {
     "outputs_hidden": true
    }
   },
   "outputs": [],
   "source": [
    "# Use the datetime function to assign the date Feb 6, 2024 to a datetime object called \"startDate\"."
   ]
  },
  {
   "cell_type": "code",
   "execution_count": 13,
   "metadata": {
    "collapsed": true,
    "jupyter": {
     "outputs_hidden": true
    }
   },
   "outputs": [],
   "source": [
    "# Use the datetime function to assign the date Feb 9, 2024 to a datetime object called \"endDate\"."
   ]
  },
  {
   "cell_type": "code",
   "execution_count": 14,
   "metadata": {
    "collapsed": true,
    "jupyter": {
     "outputs_hidden": true
    }
   },
   "outputs": [],
   "source": [
    "# Pick your 3 favorite US companies and look up their symbols.\n",
    "# Put these 3 symbols in a list called \"mySymbols\"."
   ]
  },
  {
   "cell_type": "code",
   "execution_count": 15,
   "metadata": {
    "collapsed": true,
    "jupyter": {
     "outputs_hidden": true
    }
   },
   "outputs": [],
   "source": [
    "# Execute this cell.\n",
    "yahooDataFrame = yfinance.download(mySymbols, startDate, endDate)"
   ]
  },
  {
   "cell_type": "code",
   "execution_count": null,
   "metadata": {
    "collapsed": true,
    "jupyter": {
     "outputs_hidden": true
    }
   },
   "outputs": [],
   "source": [
    "# Execute this cell.\n",
    "print(type(yahooDataFrame))\n",
    "print(yahooDataFrame.shape)\n",
    "yahooDataFrame"
   ]
  },
  {
   "cell_type": "code",
   "execution_count": 16,
   "metadata": {
    "collapsed": true,
    "jupyter": {
     "outputs_hidden": true
    }
   },
   "outputs": [],
   "source": [
    "# Select the columns of close prices and assign it to \"priceTable\"."
   ]
  },
  {
   "cell_type": "code",
   "execution_count": null,
   "metadata": {
    "collapsed": true,
    "jupyter": {
     "outputs_hidden": true
    }
   },
   "outputs": [],
   "source": [
    "# Execute this cell.\n",
    "print(type(priceTable))\n",
    "print(priceTable.shape)\n",
    "priceTable"
   ]
  }
 ],
 "metadata": {
  "kernelspec": {
   "display_name": "Python 3 (ipykernel)",
   "language": "python",
   "name": "python3"
  },
  "language_info": {
   "codemirror_mode": {
    "name": "ipython",
    "version": 3
   },
   "file_extension": ".py",
   "mimetype": "text/x-python",
   "name": "python",
   "nbconvert_exporter": "python",
   "pygments_lexer": "ipython3",
   "version": "3.9.18"
  }
 },
 "nbformat": 4,
 "nbformat_minor": 4
}
